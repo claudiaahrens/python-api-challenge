{
 "cells": [
  {
   "cell_type": "code",
   "execution_count": 1,
   "metadata": {},
   "outputs": [
    {
     "name": "stdout",
     "output_type": "stream",
     "text": [
      "99f62900074692d8654988582765b53b\n"
     ]
    }
   ],
   "source": [
    "# Dependencies and Setup\n",
    "import matplotlib.pyplot as plt\n",
    "import pandas as pd\n",
    "import numpy as np\n",
    "import requests\n",
    "import time\n",
    "import json\n",
    "import csv\n",
    "\n",
    "# Import API key\n",
    "from api_keys import api_key\n",
    "\n",
    "# Incorporated citipy to determine city based on latitude and longitude\n",
    "from citipy import citipy\n",
    "\n",
    "# Output File (CSV)\n",
    "output_data_file = \"output_data/cities.csv\"\n",
    "\n",
    "# Range of latitudes and longitudes\n",
    "lat_range = (-90, 90)\n",
    "lng_range = (-180, 180)\n",
    "print(api_key)"
   ]
  },
  {
   "cell_type": "code",
   "execution_count": 2,
   "metadata": {},
   "outputs": [
    {
     "data": {
      "text/plain": [
       "637"
      ]
     },
     "execution_count": 2,
     "metadata": {},
     "output_type": "execute_result"
    }
   ],
   "source": [
    " # List for holding lat_lngs and cities\n",
    "lat_lngs = []\n",
    "cities = []\n",
    "\n",
    "# Create a set of random lat and lng combinations\n",
    "lats = np.random.uniform(low=-90.000, high=90.000, size=1500)\n",
    "lngs = np.random.uniform(low=-180.000, high=180.000, size=1500)\n",
    "lat_lngs = list(zip(lats, lngs))\n",
    "\n",
    "# Identify nearest city for each lat, lng combination\n",
    "for lat_lng in lat_lngs:\n",
    "    city = citipy.nearest_city(lat_lng[0], lat_lng[1]).city_name\n",
    "    \n",
    "    # If the city is unique, then add it to a our cities list\n",
    "    if city not in cities:\n",
    "        cities.append(city)\n",
    "\n",
    "# Print the city count to confirm sufficient count\n",
    "len(cities)"
   ]
  },
  {
   "cell_type": "code",
   "execution_count": 3,
   "metadata": {},
   "outputs": [
    {
     "name": "stdout",
     "output_type": "stream",
     "text": [
      "Beginning Data Retrieval\n",
      "-----------------------------\n",
      "Processing Record 0 | ushuaia\n",
      "Processing Record 1 | sakakah\n",
      "Processing Record 2 | creel\n",
      "Processing Record 3 | grindavik\n",
      "Processing Record 4 | mokhsogollokh\n",
      "Processing Record 5 | hirara\n",
      "Processing Record 6 | atar\n",
      "Processing Record 7 | dali\n",
      "Processing Record 8 | bethel\n",
      "Processing Record 9 | punta arenas\n",
      "-----------------------------\n",
      "Data Retrieval Complete\n",
      "-----------------------------\n"
     ]
    }
   ],
   "source": [
    "print('Beginning Data Retrieval')   \n",
    "print('-----------------------------')\n",
    "weather_results = []\n",
    "\n",
    "for i in range (0, 10):\n",
    "    lat_long = lat_lngs[i]\n",
    "    lat = lat_long[0]\n",
    "    long = lat_long[1]\n",
    "    city = cities[i]\n",
    "\n",
    "    print(f'Processing Record {i} | {city}')\n",
    "    # Prevent rate limiting & locked account\n",
    "    time.sleep(1.1)\n",
    "    \n",
    "    # Calling weather API for current weather data\n",
    "    weather_response = requests.get(f\"http://api.openweathermap.org/data/2.5/weather?units=imperial&lat={lat}&lon={long}&APPID={api_key}\")\n",
    "    if weather_response.status_code == 200:\n",
    "        json = weather_response.json()\n",
    "        temp_max = json['main']['temp_max']\n",
    "        humidity = json['main']['humidity']\n",
    "        wind_speed = json['wind']['speed']\n",
    "        cloudiness = json['clouds']['all']\n",
    "        latitude = json['coord']['lat']\n",
    "        longitude = json['coord']['lon']\n",
    "        country = json['sys'].get('country', 'N/A')\n",
    "        dt = json['dt']\n",
    "        weather_results.append({ 'city': city, 'cloudiness': cloudiness, 'country': country, 'date': dt, 'humidity': humidity, 'lat': latitude, 'lng': longitude, 'max_temp': temp_max, 'max_speed': wind_speed})\n",
    "    \n",
    "    else:\n",
    "        print(\"City not found. Skipping ...\")\n",
    "        \n",
    "print('-----------------------------')\n",
    "print('Data Retrieval Complete')     \n",
    "print('-----------------------------')\n"
   ]
  },
  {
   "cell_type": "code",
   "execution_count": 4,
   "metadata": {},
   "outputs": [],
   "source": [
    "\n",
    "# Open the file using \"write\" mode. Specify the variable to hold the contents\n",
    "with open(output_data_file, 'w', newline='') as csvfile:\n",
    "\n",
    "    # Initialize csv.writer\n",
    "    csvwriter = csv.writer(csvfile, delimiter=',')\n",
    "\n",
    "    # Write the first row (column headers)\n",
    "    csvwriter.writerow(['City', 'Cloudiness', 'Country', 'Date', 'Humidity', 'Lat', 'Lng', 'Max Temp', 'Wind Speed'])\n",
    "\n",
    "    # Write the second row\n",
    "    for weather_dictionary in weather_results:\n",
    "        csvwriter.writerow([weather_dictionary['city'], weather_dictionary['cloudiness'], weather_dictionary['country'], weather_dictionary['date'], weather_dictionary['humidity'], weather_dictionary['lat'], weather_dictionary['lng'], weather_dictionary['max_temp'], weather_dictionary['max_speed']])"
   ]
  },
  {
   "cell_type": "code",
   "execution_count": 5,
   "metadata": {},
   "outputs": [
    {
     "data": {
      "text/html": [
       "<div>\n",
       "<style scoped>\n",
       "    .dataframe tbody tr th:only-of-type {\n",
       "        vertical-align: middle;\n",
       "    }\n",
       "\n",
       "    .dataframe tbody tr th {\n",
       "        vertical-align: top;\n",
       "    }\n",
       "\n",
       "    .dataframe thead th {\n",
       "        text-align: right;\n",
       "    }\n",
       "</style>\n",
       "<table border=\"1\" class=\"dataframe\">\n",
       "  <thead>\n",
       "    <tr style=\"text-align: right;\">\n",
       "      <th></th>\n",
       "      <th>city</th>\n",
       "      <th>cloudiness</th>\n",
       "      <th>country</th>\n",
       "      <th>date</th>\n",
       "      <th>humidity</th>\n",
       "      <th>lat</th>\n",
       "      <th>lng</th>\n",
       "      <th>max_speed</th>\n",
       "      <th>max_temp</th>\n",
       "    </tr>\n",
       "  </thead>\n",
       "  <tbody>\n",
       "    <tr>\n",
       "      <th>0</th>\n",
       "      <td>ushuaia</td>\n",
       "      <td>100</td>\n",
       "      <td>N/A</td>\n",
       "      <td>1570500245</td>\n",
       "      <td>97</td>\n",
       "      <td>-80.98</td>\n",
       "      <td>-64.70</td>\n",
       "      <td>8.68</td>\n",
       "      <td>-15.10</td>\n",
       "    </tr>\n",
       "    <tr>\n",
       "      <th>1</th>\n",
       "      <td>sakakah</td>\n",
       "      <td>0</td>\n",
       "      <td>SA</td>\n",
       "      <td>1570500246</td>\n",
       "      <td>47</td>\n",
       "      <td>30.63</td>\n",
       "      <td>41.74</td>\n",
       "      <td>4.70</td>\n",
       "      <td>75.20</td>\n",
       "    </tr>\n",
       "    <tr>\n",
       "      <th>2</th>\n",
       "      <td>creel</td>\n",
       "      <td>27</td>\n",
       "      <td>MX</td>\n",
       "      <td>1570500247</td>\n",
       "      <td>88</td>\n",
       "      <td>27.18</td>\n",
       "      <td>-106.99</td>\n",
       "      <td>5.01</td>\n",
       "      <td>56.89</td>\n",
       "    </tr>\n",
       "    <tr>\n",
       "      <th>3</th>\n",
       "      <td>grindavik</td>\n",
       "      <td>100</td>\n",
       "      <td>IS</td>\n",
       "      <td>1570500249</td>\n",
       "      <td>93</td>\n",
       "      <td>63.07</td>\n",
       "      <td>-22.27</td>\n",
       "      <td>21.56</td>\n",
       "      <td>48.08</td>\n",
       "    </tr>\n",
       "    <tr>\n",
       "      <th>4</th>\n",
       "      <td>mokhsogollokh</td>\n",
       "      <td>100</td>\n",
       "      <td>RU</td>\n",
       "      <td>1570500250</td>\n",
       "      <td>92</td>\n",
       "      <td>62.54</td>\n",
       "      <td>128.34</td>\n",
       "      <td>7.58</td>\n",
       "      <td>31.15</td>\n",
       "    </tr>\n",
       "  </tbody>\n",
       "</table>\n",
       "</div>"
      ],
      "text/plain": [
       "            city  cloudiness country        date  humidity    lat     lng  \\\n",
       "0        ushuaia         100     N/A  1570500245        97 -80.98  -64.70   \n",
       "1        sakakah           0      SA  1570500246        47  30.63   41.74   \n",
       "2          creel          27      MX  1570500247        88  27.18 -106.99   \n",
       "3      grindavik         100      IS  1570500249        93  63.07  -22.27   \n",
       "4  mokhsogollokh         100      RU  1570500250        92  62.54  128.34   \n",
       "\n",
       "   max_speed  max_temp  \n",
       "0       8.68    -15.10  \n",
       "1       4.70     75.20  \n",
       "2       5.01     56.89  \n",
       "3      21.56     48.08  \n",
       "4       7.58     31.15  "
      ]
     },
     "execution_count": 5,
     "metadata": {},
     "output_type": "execute_result"
    }
   ],
   "source": [
    "#Create Dataframe  \n",
    "weather_df = pd.DataFrame(weather_results)\n",
    "weather_df.head()"
   ]
  },
  {
   "cell_type": "code",
   "execution_count": 6,
   "metadata": {},
   "outputs": [
    {
     "data": {
      "image/png": "[encoded data removed]",
      "text/plain": [
       "<Figure size 432x288 with 1 Axes>"
      ]
     },
     "metadata": {
      "needs_background": "light"
     },
     "output_type": "display_data"
    }
   ],
   "source": [
    "lat_tempature = weather_df.copy()[['lat', 'max_temp']]\n",
    "\n",
    "# Tell matplotlib to create a scatter plot based upon the above data\n",
    "plt.scatter(lat_tempature['lat'],lat_tempature['max_temp'], marker=\"o\", facecolors=\"green\", edgecolors=\"black\")\n",
    "\n",
    "# Create a title, x label, and y label for our chart\n",
    "plt.title(\"City Latitude v Max Temperature (10/07/2019)\")\n",
    "plt.xlabel(\"Latitude\")\n",
    "plt.ylabel(\"Max Tempature (F)\")\n",
    "\n",
    " # Save an image of the chart and print to screen\n",
    "plt.savefig(\"../WeatherPy/City-Latitude-vs-Max-Tempature.png\")\n",
    "plt.show()"
   ]
  },
  {
   "cell_type": "code",
   "execution_count": null,
   "metadata": {},
   "outputs": [],
   "source": []
  }
 ],
 "metadata": {
  "kernelspec": {
   "display_name": "Python [conda env:root] *",
   "language": "python",
   "name": "conda-root-py"
  },
  "language_info": {
   "codemirror_mode": {
    "name": "ipython",
    "version": 3
   },
   "file_extension": ".py",
   "mimetype": "text/x-python",
   "name": "python",
   "nbconvert_exporter": "python",
   "pygments_lexer": "ipython3",
   "version": "3.7.3"
  }
 },
 "nbformat": 4,
 "nbformat_minor": 2
}
